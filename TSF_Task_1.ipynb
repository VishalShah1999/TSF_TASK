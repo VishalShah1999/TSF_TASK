{
  "nbformat": 4,
  "nbformat_minor": 0,
  "metadata": {
    "colab": {
      "name": "TSF_Task_1.ipynb",
      "provenance": [],
      "collapsed_sections": []
    },
    "kernelspec": {
      "name": "python3",
      "display_name": "Python 3"
    }
  },
  "cells": [
    {
      "cell_type": "markdown",
      "metadata": {
        "id": "yQJD_uiHQ5hK"
      },
      "source": [
        "#TSF Task 1: Supervised Learning\n",
        "\n",
        "###Name : Vishal Shah\n",
        "###Email : visushah99@gmail.com"
      ]
    },
    {
      "cell_type": "code",
      "metadata": {
        "id": "j8Fuq2WFQRLJ"
      },
      "source": [
        "import pandas as pd\n",
        "import numpy as np\n",
        "import matplotlib.pyplot as plt\n",
        "import seaborn as sns"
      ],
      "execution_count": null,
      "outputs": []
    },
    {
      "cell_type": "markdown",
      "metadata": {
        "id": "aTy_Gn22Rccz"
      },
      "source": [
        "##Data Loading"
      ]
    },
    {
      "cell_type": "code",
      "metadata": {
        "id": "2aI2RIO6QZ7Z",
        "colab": {
          "base_uri": "https://localhost:8080/",
          "height": 195
        },
        "outputId": "f0e62a0b-2e74-43e2-b5bc-8617ecf0b49d"
      },
      "source": [
        "url = \"http://bit.ly/w-data\"\n",
        "data = pd.read_csv(url)\n",
        "data.head()"
      ],
      "execution_count": null,
      "outputs": [
        {
          "output_type": "execute_result",
          "data": {
            "text/html": [
              "<div>\n",
              "<style scoped>\n",
              "    .dataframe tbody tr th:only-of-type {\n",
              "        vertical-align: middle;\n",
              "    }\n",
              "\n",
              "    .dataframe tbody tr th {\n",
              "        vertical-align: top;\n",
              "    }\n",
              "\n",
              "    .dataframe thead th {\n",
              "        text-align: right;\n",
              "    }\n",
              "</style>\n",
              "<table border=\"1\" class=\"dataframe\">\n",
              "  <thead>\n",
              "    <tr style=\"text-align: right;\">\n",
              "      <th></th>\n",
              "      <th>Hours</th>\n",
              "      <th>Scores</th>\n",
              "    </tr>\n",
              "  </thead>\n",
              "  <tbody>\n",
              "    <tr>\n",
              "      <th>0</th>\n",
              "      <td>2.5</td>\n",
              "      <td>21</td>\n",
              "    </tr>\n",
              "    <tr>\n",
              "      <th>1</th>\n",
              "      <td>5.1</td>\n",
              "      <td>47</td>\n",
              "    </tr>\n",
              "    <tr>\n",
              "      <th>2</th>\n",
              "      <td>3.2</td>\n",
              "      <td>27</td>\n",
              "    </tr>\n",
              "    <tr>\n",
              "      <th>3</th>\n",
              "      <td>8.5</td>\n",
              "      <td>75</td>\n",
              "    </tr>\n",
              "    <tr>\n",
              "      <th>4</th>\n",
              "      <td>3.5</td>\n",
              "      <td>30</td>\n",
              "    </tr>\n",
              "  </tbody>\n",
              "</table>\n",
              "</div>"
            ],
            "text/plain": [
              "   Hours  Scores\n",
              "0    2.5      21\n",
              "1    5.1      47\n",
              "2    3.2      27\n",
              "3    8.5      75\n",
              "4    3.5      30"
            ]
          },
          "metadata": {
            "tags": []
          },
          "execution_count": 2
        }
      ]
    },
    {
      "cell_type": "markdown",
      "metadata": {
        "id": "NJ9Ur4qkRg95"
      },
      "source": [
        "##Analysing Data"
      ]
    },
    {
      "cell_type": "code",
      "metadata": {
        "id": "YazTwrFxRaea",
        "colab": {
          "base_uri": "https://localhost:8080/"
        },
        "outputId": "ebbd8ece-50df-4509-e316-4a7b8fed3dab"
      },
      "source": [
        "# Total 25 rows are there in data\n",
        "data.info()"
      ],
      "execution_count": null,
      "outputs": [
        {
          "output_type": "stream",
          "text": [
            "<class 'pandas.core.frame.DataFrame'>\n",
            "RangeIndex: 25 entries, 0 to 24\n",
            "Data columns (total 2 columns):\n",
            " #   Column  Non-Null Count  Dtype  \n",
            "---  ------  --------------  -----  \n",
            " 0   Hours   25 non-null     float64\n",
            " 1   Scores  25 non-null     int64  \n",
            "dtypes: float64(1), int64(1)\n",
            "memory usage: 528.0 bytes\n"
          ],
          "name": "stdout"
        }
      ]
    },
    {
      "cell_type": "code",
      "metadata": {
        "id": "Z4IrXzCTRagX",
        "colab": {
          "base_uri": "https://localhost:8080/"
        },
        "outputId": "8d4da4d4-740e-4a84-d1c3-d33d3b078a79"
      },
      "source": [
        "data.isnull().sum()"
      ],
      "execution_count": null,
      "outputs": [
        {
          "output_type": "execute_result",
          "data": {
            "text/plain": [
              "Hours     0\n",
              "Scores    0\n",
              "dtype: int64"
            ]
          },
          "metadata": {
            "tags": []
          },
          "execution_count": 4
        }
      ]
    },
    {
      "cell_type": "markdown",
      "metadata": {
        "id": "PzkDJbD8RtsZ"
      },
      "source": [
        "####There are no null values and hence data cleaning is not required\n",
        "\n",
        "####Let's plot this data that we have on 2-D graph to eyeball our dataset and see if we can manually find any kind of relationship between the two parameters- Hours and Scores."
      ]
    },
    {
      "cell_type": "code",
      "metadata": {
        "id": "vvaIBdcgRai6",
        "colab": {
          "base_uri": "https://localhost:8080/",
          "height": 295
        },
        "outputId": "484321da-80fa-4277-dbd2-3cb1a276afa7"
      },
      "source": [
        "# Plotting the distribution of scores\n",
        "data.plot(x='Hours', y='Scores', style='o')  \n",
        "plt.title('Study Hours vs Percentage Scores')  \n",
        "plt.xlabel('Hours Studied')  \n",
        "plt.ylabel('Percentage Score')  \n",
        "plt.show()"
      ],
      "execution_count": null,
      "outputs": [
        {
          "output_type": "display_data",
          "data": {
            "image/png": "[encoded data removed]",
            "text/plain": [
              "<Figure size 432x288 with 1 Axes>"
            ]
          },
          "metadata": {
            "tags": [],
            "needs_background": "light"
          }
        }
      ]
    },
    {
      "cell_type": "markdown",
      "metadata": {
        "id": "-9cyn3mqR_-X"
      },
      "source": [
        "####Plotting regressor plot to determine the relationship between feature and target"
      ]
    },
    {
      "cell_type": "code",
      "metadata": {
        "id": "jtvFVNi6Racl",
        "colab": {
          "base_uri": "https://localhost:8080/",
          "height": 295
        },
        "outputId": "bac4ad34-b722-43cf-8190-b84d7097bae9"
      },
      "source": [
        "sns.regplot(x=data['Hours'],y=data['Scores'],data=data)\n",
        "plt.title('Study Hours vs Percentage Scores')\n",
        "plt.xlabel('Study Hours')\n",
        "plt.ylabel('Percentage')\n",
        "plt.show()"
      ],
      "execution_count": null,
      "outputs": [
        {
          "output_type": "display_data",
          "data": {
            "image/png": "[encoded data removed]",
            "text/plain": [
              "<Figure size 432x288 with 1 Axes>"
            ]
          },
          "metadata": {
            "tags": [],
            "needs_background": "light"
          }
        }
      ]
    },
    {
      "cell_type": "markdown",
      "metadata": {
        "id": "fbF0a_hISQsP"
      },
      "source": [
        "####**From the graph above, it can be clearly seen that there is a positive linear relation between the number of hours studied and percentage of score.**"
      ]
    },
    {
      "cell_type": "markdown",
      "metadata": {
        "id": "ni4v_d6ISYHb"
      },
      "source": [
        "###Preparing Data for training and separate it in Features and Targeted output"
      ]
    },
    {
      "cell_type": "code",
      "metadata": {
        "id": "ATz20_NLSMCB"
      },
      "source": [
        "X = data.iloc[:, :-1].values  #Features\n",
        "y = data.iloc[:, 1].values    #Labels"
      ],
      "execution_count": null,
      "outputs": []
    },
    {
      "cell_type": "markdown",
      "metadata": {
        "id": "OgI-loi8Sq7u"
      },
      "source": [
        "###Splitting the data into train and test sets"
      ]
    },
    {
      "cell_type": "code",
      "metadata": {
        "id": "QAFCVW_PSMEO"
      },
      "source": [
        "from sklearn.model_selection import train_test_split  \n",
        "X_train, X_test, y_train, y_test = train_test_split(X, y, test_size = 0.2, random_state = 42)"
      ],
      "execution_count": null,
      "outputs": []
    },
    {
      "cell_type": "markdown",
      "metadata": {
        "id": "bPbRFxrpS_AU"
      },
      "source": [
        "###Now we create object of LinearRegreesion method and train our dataset on it"
      ]
    },
    {
      "cell_type": "code",
      "metadata": {
        "id": "DhFxH914SMHz",
        "colab": {
          "base_uri": "https://localhost:8080/"
        },
        "outputId": "fd597e84-704c-4cc5-9b9e-0a7ddb56a6e1"
      },
      "source": [
        "from sklearn.linear_model import LinearRegression  \n",
        "regressor = LinearRegression()  \n",
        "regressor.fit(X_train, y_train)"
      ],
      "execution_count": null,
      "outputs": [
        {
          "output_type": "execute_result",
          "data": {
            "text/plain": [
              "LinearRegression(copy_X=True, fit_intercept=True, n_jobs=None, normalize=False)"
            ]
          },
          "metadata": {
            "tags": []
          },
          "execution_count": 9
        }
      ]
    },
    {
      "cell_type": "code",
      "metadata": {
        "id": "6BA8EKNOTHMw",
        "colab": {
          "base_uri": "https://localhost:8080/"
        },
        "outputId": "51ca55d2-ce0d-410c-851f-908b4987d258"
      },
      "source": [
        "print (\"Coefficient -\", regressor.coef_)\n",
        "print (\"Intercept - \", regressor.intercept_)"
      ],
      "execution_count": null,
      "outputs": [
        {
          "output_type": "stream",
          "text": [
            "Coefficient - [9.68207815]\n",
            "Intercept -  2.826892353899737\n"
          ],
          "name": "stdout"
        }
      ]
    },
    {
      "cell_type": "markdown",
      "metadata": {
        "id": "42pINp2aTQKK"
      },
      "source": [
        "###Plotting the regression line between predicted data point and actual data point"
      ]
    },
    {
      "cell_type": "code",
      "metadata": {
        "id": "RWdlxG0PTHOv",
        "colab": {
          "base_uri": "https://localhost:8080/",
          "height": 265
        },
        "outputId": "5b0437ee-3f2a-4bdb-d939-41f5c5c0d941"
      },
      "source": [
        "line = regressor.coef_*X + regressor.intercept_\n",
        "plt.scatter(X, y)\n",
        "plt.plot(X, line,color='red', label='Regression Line')\n",
        "plt.legend()\n",
        "plt.show()"
      ],
      "execution_count": null,
      "outputs": [
        {
          "output_type": "display_data",
          "data": {
            "image/png": "[encoded data removed]",
            "text/plain": [
              "<Figure size 432x288 with 1 Axes>"
            ]
          },
          "metadata": {
            "tags": [],
            "needs_background": "light"
          }
        }
      ]
    },
    {
      "cell_type": "markdown",
      "metadata": {
        "id": "2pyGUUqjToti"
      },
      "source": [
        "###Making the prediction and testing our trained model"
      ]
    },
    {
      "cell_type": "code",
      "metadata": {
        "id": "V0mfJcKvTfo7",
        "colab": {
          "base_uri": "https://localhost:8080/"
        },
        "outputId": "168a3fb2-2f76-4ea6-be6d-95db8e16f642"
      },
      "source": [
        "print(X_test) # Testing data - In Hours\n",
        "y_pred = regressor.predict(X_test) # Predicting the scores"
      ],
      "execution_count": null,
      "outputs": [
        {
          "output_type": "stream",
          "text": [
            "[[8.3]\n",
            " [2.5]\n",
            " [2.5]\n",
            " [6.9]\n",
            " [5.9]]\n"
          ],
          "name": "stdout"
        }
      ]
    },
    {
      "cell_type": "code",
      "metadata": {
        "id": "aTPc-WNWTxh1",
        "colab": {
          "base_uri": "https://localhost:8080/",
          "height": 195
        },
        "outputId": "b51b2e33-e024-4165-8b3a-40a5ca1dc5e7"
      },
      "source": [
        "# Comparing Actual vs Predicted\n",
        "df = pd.DataFrame({'Actual': y_test, 'Predicted': y_pred})  \n",
        "df"
      ],
      "execution_count": null,
      "outputs": [
        {
          "output_type": "execute_result",
          "data": {
            "text/html": [
              "<div>\n",
              "<style scoped>\n",
              "    .dataframe tbody tr th:only-of-type {\n",
              "        vertical-align: middle;\n",
              "    }\n",
              "\n",
              "    .dataframe tbody tr th {\n",
              "        vertical-align: top;\n",
              "    }\n",
              "\n",
              "    .dataframe thead th {\n",
              "        text-align: right;\n",
              "    }\n",
              "</style>\n",
              "<table border=\"1\" class=\"dataframe\">\n",
              "  <thead>\n",
              "    <tr style=\"text-align: right;\">\n",
              "      <th></th>\n",
              "      <th>Actual</th>\n",
              "      <th>Predicted</th>\n",
              "    </tr>\n",
              "  </thead>\n",
              "  <tbody>\n",
              "    <tr>\n",
              "      <th>0</th>\n",
              "      <td>81</td>\n",
              "      <td>83.188141</td>\n",
              "    </tr>\n",
              "    <tr>\n",
              "      <th>1</th>\n",
              "      <td>30</td>\n",
              "      <td>27.032088</td>\n",
              "    </tr>\n",
              "    <tr>\n",
              "      <th>2</th>\n",
              "      <td>21</td>\n",
              "      <td>27.032088</td>\n",
              "    </tr>\n",
              "    <tr>\n",
              "      <th>3</th>\n",
              "      <td>76</td>\n",
              "      <td>69.633232</td>\n",
              "    </tr>\n",
              "    <tr>\n",
              "      <th>4</th>\n",
              "      <td>62</td>\n",
              "      <td>59.951153</td>\n",
              "    </tr>\n",
              "  </tbody>\n",
              "</table>\n",
              "</div>"
            ],
            "text/plain": [
              "   Actual  Predicted\n",
              "0      81  83.188141\n",
              "1      30  27.032088\n",
              "2      21  27.032088\n",
              "3      76  69.633232\n",
              "4      62  59.951153"
            ]
          },
          "metadata": {
            "tags": []
          },
          "execution_count": 14
        }
      ]
    },
    {
      "cell_type": "code",
      "metadata": {
        "id": "QNoMXY2FUEB6",
        "colab": {
          "base_uri": "https://localhost:8080/"
        },
        "outputId": "0e8e84cb-4a63-4bbf-fa6d-5780304d01d2"
      },
      "source": [
        "#Estimating training and test score\n",
        "print(\"Training Score:\",regressor.score(X_train,y_train))\n",
        "print(\"Test Score:\",regressor.score(X_test,y_test))"
      ],
      "execution_count": null,
      "outputs": [
        {
          "output_type": "stream",
          "text": [
            "Training Score: 0.9491209376364417\n",
            "Test Score: 0.9678055545167994\n"
          ],
          "name": "stdout"
        }
      ]
    },
    {
      "cell_type": "markdown",
      "metadata": {
        "id": "mpBKmAD6UZuv"
      },
      "source": [
        "##Let's Predict the score for 9.25 hours per day"
      ]
    },
    {
      "cell_type": "code",
      "metadata": {
        "id": "278nIr_DUED4",
        "colab": {
          "base_uri": "https://localhost:8080/"
        },
        "outputId": "1383c06b-1032-4172-b8c6-16167052aac2"
      },
      "source": [
        "print('Score of student who studied for 9.25 hours a day is : ', regressor.predict([[9.25]]))"
      ],
      "execution_count": null,
      "outputs": [
        {
          "output_type": "stream",
          "text": [
            "Score of student who studied for 9.25 hours a day is :  [92.38611528]\n"
          ],
          "name": "stdout"
        }
      ]
    },
    {
      "cell_type": "markdown",
      "metadata": {
        "id": "a6xtZWniUxaF"
      },
      "source": [
        "###Model Evaluation Metrics"
      ]
    },
    {
      "cell_type": "code",
      "metadata": {
        "id": "Vgjsui4gUEIX",
        "colab": {
          "base_uri": "https://localhost:8080/"
        },
        "outputId": "e285c70b-5fe8-49c3-e783-24dfbe68055b"
      },
      "source": [
        "from sklearn import metrics  \n",
        "print('Mean Absolute Error:',metrics.mean_absolute_error(y_test, y_pred)) \n",
        "print('Mean Squared Error:', metrics.mean_squared_error(y_test, y_pred))"
      ],
      "execution_count": null,
      "outputs": [
        {
          "output_type": "stream",
          "text": [
            "Mean Absolute Error: 3.9207511902099244\n",
            "Mean Squared Error: 18.943211722315272\n"
          ],
          "name": "stdout"
        }
      ]
    },
    {
      "cell_type": "markdown",
      "metadata": {
        "id": "zj99Xv_QVScm"
      },
      "source": [
        "#<h1><center>Thank You</center></h1>"
      ]
    }
  ]
}